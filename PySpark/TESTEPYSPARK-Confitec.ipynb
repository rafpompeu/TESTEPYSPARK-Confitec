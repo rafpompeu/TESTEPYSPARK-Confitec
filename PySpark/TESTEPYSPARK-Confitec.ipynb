{
 "cells": [
  {
   "cell_type": "code",
   "execution_count": 1,
   "metadata": {},
   "outputs": [],
   "source": [
    "from pyspark.sql import SparkSession\n",
    "from pyspark.sql.functions import expr, to_date, col, regexp_replace, current_timestamp\n"
   ]
  },
  {
   "cell_type": "code",
   "execution_count": 2,
   "metadata": {},
   "outputs": [],
   "source": [
    "SPARK = SparkSession.builder.appName(\"TESTEPYSPARK-Confitec\").getOrCreate()"
   ]
  },
  {
   "cell_type": "code",
   "execution_count": 3,
   "metadata": {},
   "outputs": [],
   "source": [
    "df=SPARK.read.format(\"parquet\").load(\"OriginaisNetflix.parquet\")"
   ]
  },
  {
   "cell_type": "markdown",
   "metadata": {},
   "source": [
    "Questão 01:"
   ]
  },
  {
   "cell_type": "code",
   "execution_count": 4,
   "metadata": {},
   "outputs": [
    {
     "name": "stdout",
     "output_type": "stream",
     "text": [
      "root\n",
      " |-- Title: string (nullable = true)\n",
      " |-- Genre: string (nullable = true)\n",
      " |-- GenreLabels: string (nullable = true)\n",
      " |-- Premiere: string (nullable = true)\n",
      " |-- Seasons: string (nullable = true)\n",
      " |-- SeasonsParsed: long (nullable = true)\n",
      " |-- EpisodesParsed: long (nullable = true)\n",
      " |-- Length: string (nullable = true)\n",
      " |-- MinLength: long (nullable = true)\n",
      " |-- MaxLength: long (nullable = true)\n",
      " |-- Status: string (nullable = true)\n",
      " |-- Active: long (nullable = true)\n",
      " |-- Table: string (nullable = true)\n",
      " |-- Language: string (nullable = true)\n",
      " |-- dt_inclusao: string (nullable = true)\n",
      "\n"
     ]
    }
   ],
   "source": [
    "df.printSchema()"
   ]
  },
  {
   "cell_type": "code",
   "execution_count": 5,
   "metadata": {},
   "outputs": [
    {
     "name": "stdout",
     "output_type": "stream",
     "text": [
      "root\n",
      " |-- Title: string (nullable = true)\n",
      " |-- Genre: string (nullable = true)\n",
      " |-- GenreLabels: string (nullable = true)\n",
      " |-- Premiere: date (nullable = true)\n",
      " |-- Seasons: string (nullable = true)\n",
      " |-- SeasonsParsed: long (nullable = true)\n",
      " |-- EpisodesParsed: long (nullable = true)\n",
      " |-- Length: string (nullable = true)\n",
      " |-- MinLength: long (nullable = true)\n",
      " |-- MaxLength: long (nullable = true)\n",
      " |-- Status: string (nullable = true)\n",
      " |-- Active: long (nullable = true)\n",
      " |-- Table: string (nullable = true)\n",
      " |-- Language: string (nullable = true)\n",
      " |-- dt_inclusao: date (nullable = true)\n",
      "\n"
     ]
    }
   ],
   "source": [
    "df_01 = df.withColumn('Premiere', to_date(col(\"Premiere\"),\"d-MMM-yy\")) \\\n",
    "        .withColumn('dt_inclusao', to_date(col(\"dt_inclusao\"),\"yyyy-MM-dd\"))\n",
    "df_01.printSchema()"
   ]
  },
  {
   "cell_type": "markdown",
   "metadata": {},
   "source": [
    "Questão 02"
   ]
  },
  {
   "cell_type": "code",
   "execution_count": 6,
   "metadata": {},
   "outputs": [
    {
     "name": "stdout",
     "output_type": "stream",
     "text": [
      "+--------------------+--------------------+--------------------+---------+--------------------+-------------+--------------+----------+---------+---------+-------+------+------+--------+--------------------+\n",
      "|               Title|               Genre|         GenreLabels| Premiere|             Seasons|SeasonsParsed|EpisodesParsed|    Length|MinLength|MaxLength| Status|Active| Table|Language|         dt_inclusao|\n",
      "+--------------------+--------------------+--------------------+---------+--------------------+-------------+--------------+----------+---------+---------+-------+------+------+--------+--------------------+\n",
      "|          Insatiable|   Dark comedy-drama|   dark,comedy-drama|10-Aug-18|1 season, 12 epis...|            1|            12|40–53 min.|       40|       53|Renewed|     1| Drama| English|2021-03-16T21:20:...|\n",
      "|            Atypical|Coming-of-age comedy|coming-of-age,comedy|11-Aug-17|2 seasons, 18 epi...|            2|            18|26–38 min.|       26|       38|Renewed|     1|Comedy| English|2021-03-16T21:20:...|\n",
      "|        The Haunting|    Horror anthology|    horror,anthology|12-Oct-18|1 season, 10 epis...|            1|            10|43–71 min.|       43|       71|Renewed|     1| Drama| English|2021-03-16T21:20:...|\n",
      "|           The Order|Supernatural horr...|supernatural,horr...| 7-Mar-19|1 season, 10 epis...|            1|            10|42–51 min.|       42|       51|Renewed|     1| Drama| English|2021-03-16T21:20:...|\n",
      "|              Shadow|            Thriller|            thriller| 8-Mar-19|1 season, 8 episodes|            1|             8|40–49 min.|       40|       49|Pending|     1| Drama| English|2021-03-16T21:20:...|\n",
      "|     Stranger Things|Science fiction/h...|science-fiction,h...|15-Jul-16|2 seasons, 17 epi...|            2|            17|42–62 min.|       42|       62|Renewed|     1| Drama| English|2021-03-16T21:20:...|\n",
      "|        Black Summer|        Zombie drama|        zombie,drama|11-Apr-19|1 season, 8 episodes|            1|             8|21–45 min.|       21|       45|Pending|     1| Drama| English|2021-03-16T21:20:...|\n",
      "|              The OA|             Mystery|             mystery|16-Dec-16|2 parts, 16 episodes|            0|            16|31–71 min.|       31|       71|Pending|     1| Drama| English|2021-03-16T21:20:...|\n",
      "|         The Society|       Mystery drama|       mystery,drama|10-May-19|1 season, 10 epis...|            1|            10|49–61 min.|       49|       61|Pending|     1| Drama| English|2021-03-16T21:20:...|\n",
      "|               Ozark|         Crime drama|         crime,drama|21-Jul-17|2 seasons, 20 epi...|            2|            20|52–80 min.|       52|       80|Renewed|     1| Drama| English|2021-03-16T21:20:...|\n",
      "|             What/If|Social thriller a...|social,thriller,a...|24-May-19| 1 part, 10 episodes|            0|            10|44–58 min.|       44|       58|Pending|     1| Drama| English|2021-03-16T21:20:...|\n",
      "|      Altered Carbon|     Science fiction|     science-fiction| 2-Feb-18|1 season, 10 epis...|            1|            10|46–66 min.|       46|       66|Renewed|     1| Drama| English|2021-03-16T21:20:...|\n",
      "|            Trinkets| Coming-of-age drama| coming-of-age,drama|14-Jun-19|1 season, 10 epis...|            1|            10|22–29 min.|       22|       29|Pending|     1| Drama| English|2021-03-16T21:20:...|\n",
      "|Orange Is the New...|        Comedy-drama|        comedy-drama|11-Jul-13|6 seasons, 78 epi...|            6|            78|50–92 min.|       50|       92|Renewed|     1| Drama| English|2021-03-16T21:20:...|\n",
      "|        Another Life|     Science-fiction|     science-fiction|25-Jul-19|                 TBA|            0|             0|       TBA|        0|        0|Pending|     1| Drama| English|2021-03-16T21:20:...|\n",
      "|      Narcos: Mexico|         Crime drama|         crime,drama|16-Nov-18|1 season, 10 epis...|            1|            10|55–70 min.|       55|       70|Renewed|     1| Drama| English|2021-03-16T21:20:...|\n",
      "|The Dark Crystal:...|             Fantasy|             fantasy|30-Aug-19|1 season, 10 epis...|            1|            10|       TBA|        0|        0|Pending|     1| Drama| English|2021-03-16T21:20:...|\n",
      "|The Umbrella Academy|    Superhero action|    superhero,action|15-Feb-19|1 season, 10 epis...|            1|            10|45–60 min.|       45|       60|Renewed|     1| Drama| English|2021-03-16T21:20:...|\n",
      "|   Grace and Frankie|        Comedy-drama|        comedy-drama| 8-May-15|5 seasons, 65 epi...|            5|            65|25–35 min.|       25|       35|Renewed|     1|Comedy| English|2021-03-16T21:20:...|\n",
      "|           The Crown|    Historical drama|    historical,drama| 4-Nov-16|2 seasons, 20 epi...|            2|            20|54–61 min.|       54|       61|Renewed|     1| Drama| English|2021-03-16T21:20:...|\n",
      "+--------------------+--------------------+--------------------+---------+--------------------+-------------+--------------+----------+---------+---------+-------+------+------+--------+--------------------+\n",
      "only showing top 20 rows\n",
      "\n"
     ]
    }
   ],
   "source": [
    "df_02 = df.sort(col(\"Active\").desc()).show()\n"
   ]
  },
  {
   "cell_type": "markdown",
   "metadata": {},
   "source": [
    "Questão 03"
   ]
  },
  {
   "cell_type": "code",
   "execution_count": 14,
   "metadata": {},
   "outputs": [
    {
     "name": "stdout",
     "output_type": "stream",
     "text": [
      "358 358\n"
     ]
    }
   ],
   "source": [
    "df_03 = df_01.dropDuplicates()\n",
    "df_03 = df.withColumn('Seasons', regexp_replace('Seasons','TBA', \"a ser anunciado\"))\n",
    "df_03.show()"
   ]
  },
  {
   "cell_type": "markdown",
   "metadata": {},
   "source": [
    "Questão 04"
   ]
  },
  {
   "cell_type": "code",
   "execution_count": 8,
   "metadata": {},
   "outputs": [
    {
     "name": "stdout",
     "output_type": "stream",
     "text": [
      "+--------------------+--------------------+--------------------+---------+--------------------+-------------+--------------+-----------+---------+---------+----------+------+-----+--------+--------------------+--------------------+\n",
      "|               Title|               Genre|         GenreLabels| Premiere|             Seasons|SeasonsParsed|EpisodesParsed|     Length|MinLength|MaxLength|    Status|Active|Table|Language|         dt_inclusao|   Data de Alteração|\n",
      "+--------------------+--------------------+--------------------+---------+--------------------+-------------+--------------+-----------+---------+---------+----------+------+-----+--------+--------------------+--------------------+\n",
      "|      House of Cards|     Political drama|     political,drama| 1-Feb-13|6 seasons, 73 epi...|            6|            73| 42–59 min.|       42|       59|     Ended|     0|Drama| English|2021-03-16T21:20:...|2022-03-09 13:46:...|\n",
      "|       Hemlock Grove|     Horror/thriller|     horror,thriller|19-Apr-13|3 seasons, 33 epi...|            3|            33| 45–58 min.|       45|       58|     Ended|     0|Drama| English|2021-03-16T21:20:...|2022-03-09 13:46:...|\n",
      "|Orange Is the New...|        Comedy-drama|        comedy-drama|11-Jul-13|6 seasons, 78 epi...|            6|            78| 50–92 min.|       50|       92|   Renewed|     1|Drama| English|2021-03-16T21:20:...|2022-03-09 13:46:...|\n",
      "|          Marco Polo|    Historical drama|    historical,drama|12-Dec-14|2 seasons, 20 epi...|            2|            20| 48–65 min.|       48|       65|     Ended|     0|Drama| English|2021-03-16T21:20:...|2022-03-09 13:46:...|\n",
      "|           Bloodline|            Thriller|            thriller|20-Mar-15|3 seasons, 33 epi...|            3|            33| 48–68 min.|       48|       68|     Ended|     0|Drama| English|2021-03-16T21:20:...|2022-03-09 13:46:...|\n",
      "|              Sense8|     Science fiction|     science-fiction| 5-Jun-15|2 seasons, 24 epi...|            2|            24|45–152 min.|       45|      152|     Ended|     0|Drama| English|2021-03-16T21:20:...|2022-03-09 13:46:...|\n",
      "|              Narcos|         Crime drama|         crime,drama|28-Aug-15|3 seasons, 30 epi...|            3|            30| 43–60 min.|       43|       60|     Ended|     0|Drama| English|2021-03-16T21:20:...|2022-03-09 13:46:...|\n",
      "|     Stranger Things|Science fiction/h...|science-fiction,h...|15-Jul-16|2 seasons, 17 epi...|            2|            17| 42–62 min.|       42|       62|   Renewed|     1|Drama| English|2021-03-16T21:20:...|2022-03-09 13:46:...|\n",
      "|        The Get Down|       Musical drama|       musical,drama|12-Aug-16|2 parts, 11 episodes|            0|            11| 50–93 min.|       50|       93|     Ended|     0|Drama| English|2021-03-16T21:20:...|2022-03-09 13:46:...|\n",
      "|           The Crown|    Historical drama|    historical,drama| 4-Nov-16|2 seasons, 20 epi...|            2|            20| 54–61 min.|       54|       61|   Renewed|     1|Drama| English|2021-03-16T21:20:...|2022-03-09 13:46:...|\n",
      "|Gilmore Girls: A ...|        Family drama|        family,drama|25-Nov-16|          4 episodes|            0|             4|88–102 min.|       88|      102|Miniseries|     0|Drama| English|2021-03-16T21:20:...|2022-03-09 13:46:...|\n",
      "|              The OA|             Mystery|             mystery|16-Dec-16|2 parts, 16 episodes|            0|            16| 31–71 min.|       31|       71|   Pending|     1|Drama| English|2021-03-16T21:20:...|2022-03-09 13:46:...|\n",
      "|A Series of Unfor...|Black-comedy mystery|black-comedy,mystery|13-Jan-17|3 seasons, 25 epi...|            3|            25| 36–64 min.|       36|       64|     Ended|     0|Drama| English|2021-03-16T21:20:...|2022-03-09 13:46:...|\n",
      "|      13 Reasons Why|  Teen drama/mystery|  teen,drama,mystery|31-Mar-17|2 seasons, 26 epi...|            2|            26| 49–70 min.|       49|       70|   Renewed|     1|Drama| English|2021-03-16T21:20:...|2022-03-09 13:46:...|\n",
      "|               Gypsy|Psychological thr...|psychological,thr...|30-Jun-17|1 season, 10 epis...|            1|            10| 46–58 min.|       46|       58|     Ended|     0|Drama| English|2021-03-16T21:20:...|2022-03-09 13:46:...|\n",
      "|               Ozark|         Crime drama|         crime,drama|21-Jul-17|2 seasons, 20 epi...|            2|            20| 52–80 min.|       52|       80|   Renewed|     1|Drama| English|2021-03-16T21:20:...|2022-03-09 13:46:...|\n",
      "|          Mindhunter|         Crime drama|         crime,drama|13-Oct-17|1 season, 10 epis...|            1|            10| 34–60 min.|       34|       60|   Renewed|     1|Drama| English|2021-03-16T21:20:...|2022-03-09 13:46:...|\n",
      "|             Godless|             Western|             western|22-Nov-17|          7 episodes|            0|             7| 41–80 min.|       41|       80|Miniseries|     0|Drama| English|2021-03-16T21:20:...|2022-03-09 13:46:...|\n",
      "|      Altered Carbon|     Science fiction|     science-fiction| 2-Feb-18|1 season, 10 epis...|            1|            10| 46–66 min.|       46|       66|   Renewed|     1|Drama| English|2021-03-16T21:20:...|2022-03-09 13:46:...|\n",
      "|       Seven Seconds|         Crime drama|         crime,drama|23-Feb-18|1 season, 10 epis...|            1|            10| 54–80 min.|       54|       80|     Ended|     0|Drama| English|2021-03-16T21:20:...|2022-03-09 13:46:...|\n",
      "+--------------------+--------------------+--------------------+---------+--------------------+-------------+--------------+-----------+---------+---------+----------+------+-----+--------+--------------------+--------------------+\n",
      "only showing top 20 rows\n",
      "\n"
     ]
    }
   ],
   "source": [
    "df_04 = df.withColumn(\"Data de Alteração\", current_timestamp())\n",
    "df_04.show()"
   ]
  },
  {
   "cell_type": "markdown",
   "metadata": {},
   "source": [
    "Questão 05"
   ]
  },
  {
   "cell_type": "code",
   "execution_count": 9,
   "metadata": {},
   "outputs": [
    {
     "name": "stdout",
     "output_type": "stream",
     "text": [
      "root\n",
      " |-- Title: string (nullable = true)\n",
      " |-- Genre: string (nullable = true)\n",
      " |-- GenreLabels: string (nullable = true)\n",
      " |-- Premiere: string (nullable = true)\n",
      " |-- Seasons: string (nullable = true)\n",
      " |-- SeasonsParsed: long (nullable = true)\n",
      " |-- EpisodesParsed: long (nullable = true)\n",
      " |-- Length: string (nullable = true)\n",
      " |-- MinLength: long (nullable = true)\n",
      " |-- MaxLength: long (nullable = true)\n",
      " |-- Status: string (nullable = true)\n",
      " |-- Active: long (nullable = true)\n",
      " |-- Table: string (nullable = true)\n",
      " |-- Language: string (nullable = true)\n",
      " |-- dt_inclusao: string (nullable = true)\n",
      " |-- Data de Alteração: timestamp (nullable = false)\n",
      "\n"
     ]
    }
   ],
   "source": [
    "df_04.printSchema()"
   ]
  },
  {
   "cell_type": "code",
   "execution_count": 29,
   "metadata": {},
   "outputs": [],
   "source": [
    "df_05 = df_04.withColumnRenamed(\"Title\", \"Título\") \\\n",
    "            .withColumnRenamed(\"Genre\",\"Gênero\") \\\n",
    "            .withColumnRenamed(\"GenreLabels\", \"Rótulos do Gênero\") \\\n",
    "            .withColumnRenamed(\"Premiere\", \"Pré-estreia\") \\\n",
    "            .withColumnRenamed(\"Seasons\", \"Temporadas\") \\\n",
    "            .withColumnRenamed(\"SeasonsParsed\", \"Temporadas Analisadas\") \\\n",
    "            .withColumnRenamed(\"EpisodesParsed\", \"Episódios Analisados\") \\\n",
    "            .withColumnRenamed(\"Length\", \"Tamanho\") \\\n",
    "            .withColumnRenamed(\"MinLength\", \"Tamanho Mínimo\") \\\n",
    "            .withColumnRenamed(\"MaxLength\", \"Tamanho Máximo\") \\\n",
    "            .withColumnRenamed(\"Status\", \"Status\") \\\n",
    "            .withColumnRenamed(\"Table\", \"Tabela\") \\\n",
    "            .withColumnRenamed(\"Language\", \"Linguagem\") \\\n",
    "            .withColumnRenamed(\"dt_inclusao\", \"Data de Inclusão\") "
   ]
  },
  {
   "cell_type": "code",
   "execution_count": 30,
   "metadata": {},
   "outputs": [
    {
     "name": "stdout",
     "output_type": "stream",
     "text": [
      "root\n",
      " |-- Título: string (nullable = true)\n",
      " |-- Gênero: string (nullable = true)\n",
      " |-- Rótulos do Gênero: string (nullable = true)\n",
      " |-- Pré-estreia: string (nullable = true)\n",
      " |-- Temporadas: string (nullable = true)\n",
      " |-- Temporadas Analisadas: long (nullable = true)\n",
      " |-- Episódios Analisados: long (nullable = true)\n",
      " |-- Tamanho: string (nullable = true)\n",
      " |-- Tamanho Mínimo: long (nullable = true)\n",
      " |-- Tamanho Máximo: long (nullable = true)\n",
      " |-- Status: string (nullable = true)\n",
      " |-- Active: long (nullable = true)\n",
      " |-- Tabela: string (nullable = true)\n",
      " |-- Linguagem: string (nullable = true)\n",
      " |-- Data de Inclusão: string (nullable = true)\n",
      " |-- Data de Alteração: timestamp (nullable = false)\n",
      "\n"
     ]
    }
   ],
   "source": [
    "df_05.printSchema()"
   ]
  },
  {
   "cell_type": "markdown",
   "metadata": {},
   "source": [
    "Questão 06"
   ]
  },
  {
   "cell_type": "markdown",
   "metadata": {},
   "source": [
    "Resposta: Não houve erro durante o processamento em spark"
   ]
  },
  {
   "cell_type": "markdown",
   "metadata": {},
   "source": [
    "Questão 07"
   ]
  },
  {
   "cell_type": "code",
   "execution_count": 53,
   "metadata": {},
   "outputs": [],
   "source": [
    "df_05.write.option(\"header\",True).csv(\"TESTEPYSPARK_Confitec\")"
   ]
  },
  {
   "cell_type": "markdown",
   "metadata": {},
   "source": [
    "Questão 08"
   ]
  },
  {
   "cell_type": "code",
   "execution_count": null,
   "metadata": {},
   "outputs": [],
   "source": [
    "df_05.write.option(\"header\",\"true\").csv(\"s3a://<BUCKET_NAME>/<PATH>\")"
   ]
  }
 ],
 "metadata": {
  "kernelspec": {
   "display_name": "Python 3",
   "language": "python",
   "name": "python3"
  },
  "language_info": {
   "codemirror_mode": {
    "name": "ipython",
    "version": 3
   },
   "file_extension": ".py",
   "mimetype": "text/x-python",
   "name": "python",
   "nbconvert_exporter": "python",
   "pygments_lexer": "ipython3",
   "version": "3.6.10"
  }
 },
 "nbformat": 4,
 "nbformat_minor": 4
}
